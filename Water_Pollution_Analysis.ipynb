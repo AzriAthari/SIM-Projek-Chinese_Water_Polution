{
 "cells": [
  {
   "cell_type": "code",
   "execution_count": null,
   "id": "576394c7",
   "metadata": {},
   "outputs": [],
   "source": [
    "# Proyek Analisis Data Kualitas Air Sungai di China"
   ]
  },
  {
   "cell_type": "code",
   "execution_count": null,
   "id": "808efeca",
   "metadata": {},
   "outputs": [],
   "source": [
    "## 1. Import Library\n",
    "import pandas as pd\n",
    "import numpy as np\n",
    "import matplotlib.pyplot as plt\n",
    "import seaborn as sns\n",
    "import plotly.express as px\n"
   ]
  },
  {
   "cell_type": "code",
   "execution_count": null,
   "id": "6382fc46",
   "metadata": {},
   "outputs": [],
   "source": [
    "## 2. Load Dataset\n",
    "df = pd.read_csv(\"/content/china_water_pollution_data.csv\")\n",
    "df.head()"
   ]
  },
  {
   "cell_type": "code",
   "execution_count": null,
   "id": "f07be804",
   "metadata": {},
   "outputs": [],
   "source": [
    "## 3. Assessing Data\n",
    "print(\"\\n--- Info Dataset ---\")\n",
    "df.info()\n",
    "print(\"\\n--- Missing Values ---\")\n",
    "print(df.isnull().sum())\n",
    "print(\"\\n--- Duplicated Rows ---\")\n",
    "print(df.duplicated().sum())"
   ]
  },
  {
   "cell_type": "code",
   "execution_count": null,
   "id": "acdc3b1d",
   "metadata": {},
   "outputs": [],
   "source": [
    "## 4. Cleaning Data\n",
    "# Drop duplikat\n",
    "df.drop_duplicates(inplace=True)\n",
    "\n",
    "# Ubah kolom Date menjadi datetime\n",
    "df['Date'] = pd.to_datetime(df['Date'], errors='coerce')\n",
    "\n",
    "# Drop baris yang gagal konversi tanggal\n",
    "df.dropna(subset=['Date'], inplace=True)\n",
    "\n",
    "# Isi missing values dengan metode forward fill\n",
    "df.fillna(method='ffill', inplace=True)\n",
    "\n",
    "# Konversi nama kolom koordinat\n",
    "df.rename(columns={\"Latitude\": \"latitude\", \"Longitude\": \"longitude\"}, inplace=True)"
   ]
  },
  {
   "cell_type": "code",
   "execution_count": null,
   "id": "1abf8da4",
   "metadata": {},
   "outputs": [],
   "source": [
    "## 5. EDA (Exploratory Data Analysis)\n",
    "### 5.1 Rata-rata parameter kualitas air\n",
    "df.describe(numeric_only=True)"
   ]
  },
  {
   "cell_type": "code",
   "execution_count": null,
   "id": "12e8cfc4",
   "metadata": {},
   "outputs": [],
   "source": [
    "### 5.2 Station dengan jumlah data terbanyak\n",
    "station_counts = df['Monitoring_Station'].value_counts().head(10)\n",
    "station_counts.plot(kind='barh', title='Top 10 Station dengan Jumlah Data Terbanyak', figsize=(8,5))\n",
    "plt.xlabel(\"Jumlah Data\")\n",
    "plt.ylabel(\"Monitoring Station\")\n",
    "plt.show()"
   ]
  },
  {
   "cell_type": "code",
   "execution_count": null,
   "id": "3ac23012",
   "metadata": {},
   "outputs": [],
   "source": [
    "### 5.3 Parameter mana yang paling tinggi rata-ratanya\n",
    "param_means = df[['Water_Temperature_C', 'Dissolved_Oxygen_mg_L', 'Turbidity_NTU', 'Nitrate_mg_L']].mean()\n",
    "param_means.plot(kind='pie', autopct='%1.1f%%', title='Proporsi Rata-rata Parameter Air')\n",
    "plt.ylabel('')\n",
    "plt.show()"
   ]
  },
  {
   "cell_type": "code",
   "execution_count": null,
   "id": "7695d0c2",
   "metadata": {},
   "outputs": [],
   "source": [
    "## 6. Visualisasi Interaktif\n",
    "### 6.1 Line Chart: Suhu Air dari waktu ke waktu\n",
    "fig = px.line(df, x='Date', y='Water_Temperature_C', color='Monitoring_Station', title='Tren Suhu Air per Station')\n",
    "fig.show()"
   ]
  },
  {
   "cell_type": "code",
   "execution_count": null,
   "id": "34d573d5",
   "metadata": {},
   "outputs": [],
   "source": [
    "### 6.2 Bar Chart: Top 5 Station dengan suhu tertinggi\n",
    "top5_temp = df.groupby('Monitoring_Station')['Water_Temperature_C'].mean().sort_values(ascending=False).head(5)\n",
    "fig2 = px.bar(top5_temp, x=top5_temp.values, y=top5_temp.index, orientation='h', title='Top 5 Station - Rata-rata Suhu Air')\n",
    "fig2.show()"
   ]
  },
  {
   "cell_type": "code",
   "execution_count": null,
   "id": "2b453060",
   "metadata": {},
   "outputs": [],
   "source": [
    "### 6.3 Pie Chart: Komposisi rata-rata parameter air\n",
    "pie_df = pd.DataFrame({\n",
    "    'Parameter': param_means.index,\n",
    "    'Rata-rata': param_means.values\n",
    "})\n",
    "fig3 = px.pie(pie_df, names='Parameter', values='Rata-rata', title='Komposisi Rata-rata Parameter Air')\n",
    "fig3.show()"
   ]
  },
  {
   "cell_type": "code",
   "execution_count": null,
   "id": "b50180f2",
   "metadata": {},
   "outputs": [],
   "source": [
    "### 6.4 Map: Lokasi Monitoring Station\n",
    "fig4 = px.scatter_mapbox(\n",
    "    df.dropna(subset=['latitude', 'longitude']),\n",
    "    lat=\"latitude\", lon=\"longitude\",\n",
    "    color=\"Monitoring_Station\",\n",
    "    mapbox_style=\"carto-positron\",\n",
    "    zoom=3,\n",
    "    title=\"Peta Lokasi Monitoring Station\"\n",
    ")\n",
    "fig4.show()"
   ]
  },
  {
   "cell_type": "code",
   "execution_count": null,
   "id": "4df4893e",
   "metadata": {},
   "outputs": [],
   "source": [
    "## 7. Korelasi antar Parameter\n",
    "plt.figure(figsize=(10,6))\n",
    "sns.heatmap(df[['Water_Temperature_C', 'pH', 'Dissolved_Oxygen_mg_L', 'Turbidity_NTU', 'Nitrate_mg_L']].corr(), annot=True, cmap='coolwarm')\n",
    "plt.title(\"Heatmap Korelasi antar Parameter Kualitas Air\")\n",
    "plt.show()"
   ]
  },
  {
   "cell_type": "code",
   "execution_count": null,
   "id": "72a8532c",
   "metadata": {},
   "outputs": [],
   "source": [
    "## 8. Simpulan Awal\n",
    "# - Station dengan data terbanyak: {}\n",
    "# - Parameter dominan: {}\n",
    "# - Korelasi negatif kuat: suhu & oksigen terlarut (semakin panas, oksigen berkurang)\n",
    "# Simpulan dan insight lanjutan dapat dikembangkan sesuai kebutuhan."
   ]
  }
 ],
 "metadata": {},
 "nbformat": 4,
 "nbformat_minor": 5
}
